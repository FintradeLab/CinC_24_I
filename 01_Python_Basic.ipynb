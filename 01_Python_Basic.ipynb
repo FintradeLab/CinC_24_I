{
  "nbformat": 4,
  "nbformat_minor": 0,
  "metadata": {
    "colab": {
      "provenance": [],
      "authorship_tag": "ABX9TyOPyUA+cgTXm/EOGaRH+HvB",
      "include_colab_link": true
    },
    "kernelspec": {
      "name": "python3",
      "display_name": "Python 3"
    },
    "language_info": {
      "name": "python"
    }
  },
  "cells": [
    {
      "cell_type": "markdown",
      "metadata": {
        "id": "view-in-github",
        "colab_type": "text"
      },
      "source": [
        "<a href=\"https://colab.research.google.com/github/FintradeLab/CinC_24_I/blob/main/01_Python_Basic.ipynb\" target=\"_parent\"><img src=\"https://colab.research.google.com/assets/colab-badge.svg\" alt=\"Open In Colab\"/></a>"
      ]
    },
    {
      "cell_type": "markdown",
      "source": [
        "# **Introduction**\n",
        "\n"
      ],
      "metadata": {
        "id": "CSK8xWadDmDc"
      }
    },
    {
      "cell_type": "markdown",
      "source": [
        "# **1. Python as a Calculator**"
      ],
      "metadata": {
        "id": "rffPMQlYGEwZ"
      }
    },
    {
      "cell_type": "code",
      "execution_count": null,
      "metadata": {
        "colab": {
          "base_uri": "https://localhost:8080/"
        },
        "id": "e6lMp5hWDe9a",
        "outputId": "459aa44c-f3f4-4cea-990d-01531e9fe64a"
      },
      "outputs": [
        {
          "output_type": "execute_result",
          "data": {
            "text/plain": [
              "5"
            ]
          },
          "metadata": {},
          "execution_count": 4
        }
      ],
      "source": [
        "# Additon\n",
        "2 + 3\n"
      ]
    },
    {
      "cell_type": "code",
      "source": [
        "# Substraction\n",
        "16 - 9"
      ],
      "metadata": {
        "colab": {
          "base_uri": "https://localhost:8080/"
        },
        "id": "Ees7IxDHHL60",
        "outputId": "02054abc-bcb6-48b4-af52-256068a86e7d"
      },
      "execution_count": null,
      "outputs": [
        {
          "output_type": "execute_result",
          "data": {
            "text/plain": [
              "7"
            ]
          },
          "metadata": {},
          "execution_count": 5
        }
      ]
    },
    {
      "cell_type": "code",
      "source": [
        "# Multiplication\n",
        "5 * 7 # five times seven"
      ],
      "metadata": {
        "colab": {
          "base_uri": "https://localhost:8080/"
        },
        "id": "XZlLBthWHWLW",
        "outputId": "48d36edb-6b58-4348-f81a-786d1873ba60"
      },
      "execution_count": null,
      "outputs": [
        {
          "output_type": "execute_result",
          "data": {
            "text/plain": [
              "35"
            ]
          },
          "metadata": {},
          "execution_count": 7
        }
      ]
    },
    {
      "cell_type": "code",
      "source": [
        "# Division"
      ],
      "metadata": {
        "colab": {
          "base_uri": "https://localhost:8080/"
        },
        "id": "4Q0mz1CfHzO4",
        "outputId": "6626b070-8dbc-4a43-9b06-772833d282c1"
      },
      "execution_count": null,
      "outputs": [
        {
          "output_type": "execute_result",
          "data": {
            "text/plain": [
              "3.3333333333333335"
            ]
          },
          "metadata": {},
          "execution_count": 8
        }
      ]
    },
    {
      "cell_type": "code",
      "source": [
        "# Integer Division\n",
        "10 // 3"
      ],
      "metadata": {
        "colab": {
          "base_uri": "https://localhost:8080/"
        },
        "id": "Ctu5XnqwILmS",
        "outputId": "c453a001-f505-49b1-99f5-6c139c30d6ce"
      },
      "execution_count": null,
      "outputs": [
        {
          "output_type": "execute_result",
          "data": {
            "text/plain": [
              "3"
            ]
          },
          "metadata": {},
          "execution_count": 9
        }
      ]
    },
    {
      "cell_type": "code",
      "source": [
        "# Exponential\n",
        "2 ** 3"
      ],
      "metadata": {
        "colab": {
          "base_uri": "https://localhost:8080/"
        },
        "id": "5JEMznzbJUda",
        "outputId": "7d08b0a5-9d9f-4def-e579-dc4a1863d824"
      },
      "execution_count": null,
      "outputs": [
        {
          "output_type": "execute_result",
          "data": {
            "text/plain": [
              "8"
            ]
          },
          "metadata": {},
          "execution_count": 10
        }
      ]
    },
    {
      "cell_type": "markdown",
      "source": [
        "# **2. Composite operations and Parentheses**"
      ],
      "metadata": {
        "id": "R7feXvcuJ10B"
      }
    },
    {
      "cell_type": "code",
      "source": [
        "# Example\n",
        "2 * 3 ** 2 - 1"
      ],
      "metadata": {
        "colab": {
          "base_uri": "https://localhost:8080/"
        },
        "id": "g2_Mc9prJ9fY",
        "outputId": "c3892211-e17b-4618-fc0d-f947f44359af"
      },
      "execution_count": null,
      "outputs": [
        {
          "output_type": "execute_result",
          "data": {
            "text/plain": [
              "17"
            ]
          },
          "metadata": {},
          "execution_count": 12
        }
      ]
    },
    {
      "cell_type": "code",
      "source": [
        "# Example\n",
        "2 * (3 ** 2 - 1)"
      ],
      "metadata": {
        "colab": {
          "base_uri": "https://localhost:8080/"
        },
        "outputId": "b2de7a18-e6f7-427b-8235-68ee68e4dac8",
        "id": "pMP4asWJK0ag"
      },
      "execution_count": null,
      "outputs": [
        {
          "output_type": "execute_result",
          "data": {
            "text/plain": [
              "16"
            ]
          },
          "metadata": {},
          "execution_count": 14
        }
      ]
    },
    {
      "cell_type": "markdown",
      "source": [
        "# **3. Types of numbers**\n",
        "\n",
        "*Natural*: 0, 1, 2, ... These are all the positive integers.\n",
        "\n",
        "*Integers*: ..., -2, -1, 0, 1, 2, ...\n",
        "\n",
        "*Real*: all numbers except imaginary. All numbers with decimals."
      ],
      "metadata": {
        "id": "LHnvnJ3ULX0x"
      }
    },
    {
      "cell_type": "code",
      "source": [
        "# Example\n",
        "type(26)"
      ],
      "metadata": {
        "colab": {
          "base_uri": "https://localhost:8080/"
        },
        "id": "cP-NBXO5L6Th",
        "outputId": "1df81642-4ff7-484c-8458-716108cef90c"
      },
      "execution_count": null,
      "outputs": [
        {
          "output_type": "execute_result",
          "data": {
            "text/plain": [
              "int"
            ]
          },
          "metadata": {},
          "execution_count": 15
        }
      ]
    },
    {
      "cell_type": "code",
      "source": [
        "# Example\n",
        "type(1.25)"
      ],
      "metadata": {
        "colab": {
          "base_uri": "https://localhost:8080/"
        },
        "id": "zIK2PzdmMNYL",
        "outputId": "6209ed8c-a3d3-42d6-cc0e-507df1b13e24"
      },
      "execution_count": null,
      "outputs": [
        {
          "output_type": "execute_result",
          "data": {
            "text/plain": [
              "float"
            ]
          },
          "metadata": {},
          "execution_count": 16
        }
      ]
    },
    {
      "cell_type": "code",
      "source": [
        "# Scientific notation\n",
        "5e-1"
      ],
      "metadata": {
        "colab": {
          "base_uri": "https://localhost:8080/"
        },
        "id": "sxZ0enTgMyk6",
        "outputId": "1af7d0c3-da39-44f8-9f01-bdd5de3bd056"
      },
      "execution_count": null,
      "outputs": [
        {
          "output_type": "execute_result",
          "data": {
            "text/plain": [
              "0.5"
            ]
          },
          "metadata": {},
          "execution_count": 18
        }
      ]
    },
    {
      "cell_type": "markdown",
      "source": [
        "# **4. Basic and useful functions**"
      ],
      "metadata": {
        "id": "cXLpFY93AQmv"
      }
    },
    {
      "cell_type": "markdown",
      "source": [
        "## *Print*"
      ],
      "metadata": {
        "id": "iQmCr3boAXts"
      }
    },
    {
      "cell_type": "code",
      "source": [
        "# Example - one element\n",
        "print(2024)"
      ],
      "metadata": {
        "colab": {
          "base_uri": "https://localhost:8080/"
        },
        "id": "a3QVhELmAP7E",
        "outputId": "c6e5e631-a43f-4930-8c09-a96792179734"
      },
      "execution_count": null,
      "outputs": [
        {
          "output_type": "stream",
          "name": "stdout",
          "text": [
            "2024\n"
          ]
        }
      ]
    },
    {
      "cell_type": "code",
      "source": [
        "# Example - more than one element\n",
        "print(2024, 2, 21)"
      ],
      "metadata": {
        "colab": {
          "base_uri": "https://localhost:8080/"
        },
        "id": "R6fg3-nOA5oc",
        "outputId": "111c12cb-aa3c-4366-c5e6-82c63023036c"
      },
      "execution_count": null,
      "outputs": [
        {
          "output_type": "stream",
          "name": "stdout",
          "text": [
            "2024 2 21\n"
          ]
        }
      ]
    },
    {
      "cell_type": "code",
      "source": [
        "# Example - with loop\n",
        "for i in range(0,10): print(i)"
      ],
      "metadata": {
        "colab": {
          "base_uri": "https://localhost:8080/"
        },
        "id": "ZizImhkPBI44",
        "outputId": "2a558108-3ea1-4ca3-a5f5-0f871c061b44"
      },
      "execution_count": null,
      "outputs": [
        {
          "output_type": "stream",
          "name": "stdout",
          "text": [
            "0\n",
            "1\n",
            "2\n",
            "3\n",
            "4\n",
            "5\n",
            "6\n",
            "7\n",
            "8\n",
            "9\n"
          ]
        }
      ]
    },
    {
      "cell_type": "code",
      "source": [
        "# Example - with text\n",
        "print('My name is Rodrigo')\n",
        "print('First Name:', 'José', 'Last Name:', 'Vélez')\n",
        "print('First Name:', 'José', '\\t Last Name:', 'Vélez')\n",
        "print('First Name:', 'José', '\\nLast Name:', 'Vélez')"
      ],
      "metadata": {
        "colab": {
          "base_uri": "https://localhost:8080/"
        },
        "id": "qNjARuJfCorc",
        "outputId": "1eb5963b-c30b-4fe4-ba22-22005d319def"
      },
      "execution_count": null,
      "outputs": [
        {
          "output_type": "stream",
          "name": "stdout",
          "text": [
            "My name is Rodrigo\n",
            "First Name: José Last Name: Vélez\n",
            "First Name: José \t Last Name: Vélez\n",
            "First Name: José \n",
            "Last Name: Vélez\n"
          ]
        }
      ]
    },
    {
      "cell_type": "code",
      "source": [
        "# Example - with text and numbers\n",
        "print('My favorite number is', 21)"
      ],
      "metadata": {
        "colab": {
          "base_uri": "https://localhost:8080/"
        },
        "id": "GLQcteriEN-M",
        "outputId": "a5b9d976-7dfc-492d-e7f5-f93076776a3a"
      },
      "execution_count": null,
      "outputs": [
        {
          "output_type": "stream",
          "name": "stdout",
          "text": [
            "My favorite number is 21\n"
          ]
        }
      ]
    },
    {
      "cell_type": "markdown",
      "source": [
        "## *Round*"
      ],
      "metadata": {
        "id": "uDdmn-JeEkAZ"
      }
    },
    {
      "cell_type": "code",
      "source": [
        "# Example\n",
        "round(7.2345, 1)"
      ],
      "metadata": {
        "colab": {
          "base_uri": "https://localhost:8080/"
        },
        "id": "6g2Dxp67EmV9",
        "outputId": "c4cd6dc2-ee14-4065-ab16-3d1698dcc08e"
      },
      "execution_count": null,
      "outputs": [
        {
          "output_type": "execute_result",
          "data": {
            "text/plain": [
              "7.2"
            ]
          },
          "metadata": {},
          "execution_count": 12
        }
      ]
    },
    {
      "cell_type": "code",
      "source": [
        "# Example\n",
        "## Let's print the result of rounding a number from 0 to 3 decimals\n",
        "print('Approx. with', 0, 'decimals is:', round(7.2345, 0))\n",
        "print('Approx. with', 1, 'decimals is:', round(7.2345, 1))\n",
        "print('Approx. with', 2, 'decimals is:', round(7.2345, 2))\n",
        "print('Approx. with', 3, 'decimals is:', round(7.2345, 3))"
      ],
      "metadata": {
        "colab": {
          "base_uri": "https://localhost:8080/"
        },
        "id": "uFjCbyx_FBKK",
        "outputId": "cc3de775-200d-4d20-8676-4798c4d99bc5"
      },
      "execution_count": null,
      "outputs": [
        {
          "output_type": "stream",
          "name": "stdout",
          "text": [
            "Approx. with 0 decimals is: 7.0\n",
            "Approx. with 1 decimals is: 7.2\n",
            "Approx. with 2 decimals is: 7.23\n",
            "Approx. with 3 decimals is: 7.234\n"
          ]
        }
      ]
    },
    {
      "cell_type": "code",
      "source": [
        "# Example - with loops\n",
        "for i in range(0, 4):\n",
        "  print('Approx. with', i, 'decimals is:', round(7.2345, i))"
      ],
      "metadata": {
        "colab": {
          "base_uri": "https://localhost:8080/"
        },
        "id": "3TP-Q5ktJ0Qj",
        "outputId": "a61302c1-268e-4127-9f33-5a8dd2b48f07"
      },
      "execution_count": null,
      "outputs": [
        {
          "output_type": "stream",
          "name": "stdout",
          "text": [
            "Approx. with 0 decimals is: 7.0\n",
            "Approx. with 1 decimals is: 7.2\n",
            "Approx. with 2 decimals is: 7.23\n",
            "Approx. with 3 decimals is: 7.234\n"
          ]
        }
      ]
    },
    {
      "cell_type": "code",
      "source": [
        "# Exercise\n",
        "## Print the result of rounding to 3 decimals the calculation\n",
        "## 10 divided by its precedents\n",
        "\n",
        "for i in range(1,11):\n",
        "  print(10, '/', i, '=', round(10/i,3))"
      ],
      "metadata": {
        "id": "LezseqD0LviT",
        "colab": {
          "base_uri": "https://localhost:8080/"
        },
        "outputId": "006133a3-4d2a-40de-ddde-86289961e8fb"
      },
      "execution_count": 2,
      "outputs": [
        {
          "output_type": "stream",
          "name": "stdout",
          "text": [
            "10 / 1 = 10.0\n",
            "10 / 2 = 5.0\n",
            "10 / 3 = 3.333\n",
            "10 / 4 = 2.5\n",
            "10 / 5 = 2.0\n",
            "10 / 6 = 1.667\n",
            "10 / 7 = 1.429\n",
            "10 / 8 = 1.25\n",
            "10 / 9 = 1.111\n",
            "10 / 10 = 1.0\n"
          ]
        }
      ]
    }
  ]
}