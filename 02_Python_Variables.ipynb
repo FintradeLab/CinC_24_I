{
  "nbformat": 4,
  "nbformat_minor": 0,
  "metadata": {
    "colab": {
      "provenance": [],
      "authorship_tag": "ABX9TyOEPrcCoZ0rd7FN+BORCrLy",
      "include_colab_link": true
    },
    "kernelspec": {
      "name": "python3",
      "display_name": "Python 3"
    },
    "language_info": {
      "name": "python"
    }
  },
  "cells": [
    {
      "cell_type": "markdown",
      "metadata": {
        "id": "view-in-github",
        "colab_type": "text"
      },
      "source": [
        "<a href=\"https://colab.research.google.com/github/FintradeLab/CinC_24_I/blob/main/02_Python_Variables.ipynb\" target=\"_parent\"><img src=\"https://colab.research.google.com/assets/colab-badge.svg\" alt=\"Open In Colab\"/></a>"
      ]
    },
    {
      "cell_type": "markdown",
      "source": [
        "# **1. What is a variable?**\n",
        "\n",
        "*Container* that stores values"
      ],
      "metadata": {
        "id": "-c2OrUoQM10Y"
      }
    },
    {
      "cell_type": "markdown",
      "source": [
        "# **2. Declaration**"
      ],
      "metadata": {
        "id": "n5Dq2GBPNQBl"
      }
    },
    {
      "cell_type": "code",
      "execution_count": 17,
      "metadata": {
        "id": "IA_g_1YQMvcr"
      },
      "outputs": [],
      "source": [
        "# Example\n",
        "a = 5"
      ]
    },
    {
      "cell_type": "code",
      "source": [
        "print(a)"
      ],
      "metadata": {
        "colab": {
          "base_uri": "https://localhost:8080/"
        },
        "id": "8LfcladGNz4M",
        "outputId": "b41a6c95-32f6-4f5a-ae54-19767eece06e"
      },
      "execution_count": 18,
      "outputs": [
        {
          "output_type": "stream",
          "name": "stdout",
          "text": [
            "5\n"
          ]
        }
      ]
    },
    {
      "cell_type": "code",
      "source": [
        "# Example\n",
        "print(a + 1)\n",
        "print(a * a)"
      ],
      "metadata": {
        "colab": {
          "base_uri": "https://localhost:8080/"
        },
        "id": "Oy8BnlQAN-Kn",
        "outputId": "5e948e9c-9b89-4cd4-ded3-6a7916cc3aae"
      },
      "execution_count": 19,
      "outputs": [
        {
          "output_type": "stream",
          "name": "stdout",
          "text": [
            "6\n",
            "25\n"
          ]
        }
      ]
    },
    {
      "cell_type": "code",
      "source": [
        "# Trick\n",
        "x = y = z = 100\n"
      ],
      "metadata": {
        "id": "NIxUBDLkOouz"
      },
      "execution_count": 20,
      "outputs": []
    },
    {
      "cell_type": "code",
      "source": [
        "# Trick\n",
        "n, m = 10, 15"
      ],
      "metadata": {
        "id": "7GFVlK_5O7Id"
      },
      "execution_count": 21,
      "outputs": []
    },
    {
      "cell_type": "markdown",
      "source": [
        "# **3. Delete and Clear**"
      ],
      "metadata": {
        "id": "nKOT4XRePZ0M"
      }
    },
    {
      "cell_type": "code",
      "source": [
        "# Delete one or more variables\n",
        "del x, n"
      ],
      "metadata": {
        "id": "cBuuhsmrPezv"
      },
      "execution_count": 22,
      "outputs": []
    },
    {
      "cell_type": "code",
      "source": [
        "# Clear all variables\n",
        "%reset"
      ],
      "metadata": {
        "colab": {
          "base_uri": "https://localhost:8080/"
        },
        "id": "LcHkSyEiQQhh",
        "outputId": "2b84d099-7a12-438e-ec4b-48f802c97d37"
      },
      "execution_count": 23,
      "outputs": [
        {
          "name": "stdout",
          "output_type": "stream",
          "text": [
            "Once deleted, variables cannot be recovered. Proceed (y/[n])? y\n"
          ]
        }
      ]
    },
    {
      "cell_type": "code",
      "source": [
        "# Exercise\n",
        "## Print the result of rounding to 3 decimals the calculation\n",
        "## 10 divided by its precedents\n",
        "\n",
        "## USING VARIABLES\n",
        "\n",
        "a = 20      # number\n",
        "b = 4       # number of decimals\n",
        "\n",
        "for i in range(1,a+1):\n",
        "  print(a, '/', i, '=', round(a/i,b))"
      ],
      "metadata": {
        "colab": {
          "base_uri": "https://localhost:8080/"
        },
        "id": "TzWwTaxMQr-2",
        "outputId": "990b1f49-dd4a-41fb-f557-7fd21adf0294"
      },
      "execution_count": 25,
      "outputs": [
        {
          "output_type": "stream",
          "name": "stdout",
          "text": [
            "20 / 1 = 20.0\n",
            "20 / 2 = 10.0\n",
            "20 / 3 = 6.6667\n",
            "20 / 4 = 5.0\n",
            "20 / 5 = 4.0\n",
            "20 / 6 = 3.3333\n",
            "20 / 7 = 2.8571\n",
            "20 / 8 = 2.5\n",
            "20 / 9 = 2.2222\n",
            "20 / 10 = 2.0\n",
            "20 / 11 = 1.8182\n",
            "20 / 12 = 1.6667\n",
            "20 / 13 = 1.5385\n",
            "20 / 14 = 1.4286\n",
            "20 / 15 = 1.3333\n",
            "20 / 16 = 1.25\n",
            "20 / 17 = 1.1765\n",
            "20 / 18 = 1.1111\n",
            "20 / 19 = 1.0526\n",
            "20 / 20 = 1.0\n"
          ]
        }
      ]
    },
    {
      "cell_type": "code",
      "source": [
        "# Exercise\n",
        "## Find and print the 100 first multiples of 7\n",
        "## Using variables\n",
        "\n",
        "n = 4      # number\n",
        "m = 50    # number of mulitples\n",
        "\n",
        "print('The', m, 'th multiples of ', n)\n",
        "for i in range(1, m+1):\n",
        "  print('The multiple in position', i, 'th is:', n*i)"
      ],
      "metadata": {
        "colab": {
          "base_uri": "https://localhost:8080/"
        },
        "id": "caQZ6TfhTNHd",
        "outputId": "7da0500c-047c-4813-ac75-32ba2f863384"
      },
      "execution_count": 29,
      "outputs": [
        {
          "output_type": "stream",
          "name": "stdout",
          "text": [
            "The 50 th multiples of  4\n",
            "The multiple in position 1 th is: 4\n",
            "The multiple in position 2 th is: 8\n",
            "The multiple in position 3 th is: 12\n",
            "The multiple in position 4 th is: 16\n",
            "The multiple in position 5 th is: 20\n",
            "The multiple in position 6 th is: 24\n",
            "The multiple in position 7 th is: 28\n",
            "The multiple in position 8 th is: 32\n",
            "The multiple in position 9 th is: 36\n",
            "The multiple in position 10 th is: 40\n",
            "The multiple in position 11 th is: 44\n",
            "The multiple in position 12 th is: 48\n",
            "The multiple in position 13 th is: 52\n",
            "The multiple in position 14 th is: 56\n",
            "The multiple in position 15 th is: 60\n",
            "The multiple in position 16 th is: 64\n",
            "The multiple in position 17 th is: 68\n",
            "The multiple in position 18 th is: 72\n",
            "The multiple in position 19 th is: 76\n",
            "The multiple in position 20 th is: 80\n",
            "The multiple in position 21 th is: 84\n",
            "The multiple in position 22 th is: 88\n",
            "The multiple in position 23 th is: 92\n",
            "The multiple in position 24 th is: 96\n",
            "The multiple in position 25 th is: 100\n",
            "The multiple in position 26 th is: 104\n",
            "The multiple in position 27 th is: 108\n",
            "The multiple in position 28 th is: 112\n",
            "The multiple in position 29 th is: 116\n",
            "The multiple in position 30 th is: 120\n",
            "The multiple in position 31 th is: 124\n",
            "The multiple in position 32 th is: 128\n",
            "The multiple in position 33 th is: 132\n",
            "The multiple in position 34 th is: 136\n",
            "The multiple in position 35 th is: 140\n",
            "The multiple in position 36 th is: 144\n",
            "The multiple in position 37 th is: 148\n",
            "The multiple in position 38 th is: 152\n",
            "The multiple in position 39 th is: 156\n",
            "The multiple in position 40 th is: 160\n",
            "The multiple in position 41 th is: 164\n",
            "The multiple in position 42 th is: 168\n",
            "The multiple in position 43 th is: 172\n",
            "The multiple in position 44 th is: 176\n",
            "The multiple in position 45 th is: 180\n",
            "The multiple in position 46 th is: 184\n",
            "The multiple in position 47 th is: 188\n",
            "The multiple in position 48 th is: 192\n",
            "The multiple in position 49 th is: 196\n",
            "The multiple in position 50 th is: 200\n"
          ]
        }
      ]
    }
  ]
}