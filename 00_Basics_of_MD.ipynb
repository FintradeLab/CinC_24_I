{
  "nbformat": 4,
  "nbformat_minor": 0,
  "metadata": {
    "colab": {
      "provenance": [],
      "toc_visible": true,
      "authorship_tag": "ABX9TyOuAvc4RKj+LSMghdVGOT+7",
      "include_colab_link": true
    },
    "kernelspec": {
      "name": "python3",
      "display_name": "Python 3"
    },
    "language_info": {
      "name": "python"
    }
  },
  "cells": [
    {
      "cell_type": "markdown",
      "metadata": {
        "id": "view-in-github",
        "colab_type": "text"
      },
      "source": [
        "<a href=\"https://colab.research.google.com/github/FintradeLab/CinC_24_I/blob/main/00_Basics_of_MD.ipynb\" target=\"_parent\"><img src=\"https://colab.research.google.com/assets/colab-badge.svg\" alt=\"Open In Colab\"/></a>"
      ]
    },
    {
      "cell_type": "markdown",
      "source": [
        "# Title\n",
        "\n",
        "jahsdkjas asjkdhkasjhdkas askldjhaklsd"
      ],
      "metadata": {
        "id": "DpzGUWwvE1lU"
      }
    },
    {
      "cell_type": "markdown",
      "source": [
        "## Subtitle"
      ],
      "metadata": {
        "id": "7W1XCoLxGOUn"
      }
    },
    {
      "cell_type": "markdown",
      "source": [
        "# Text Formating"
      ],
      "metadata": {
        "id": "qVJVAVemG2DB"
      }
    },
    {
      "cell_type": "markdown",
      "source": [
        "## Bold\n",
        "\n",
        "**José Rodrigo Vélez Molano**"
      ],
      "metadata": {
        "id": "Ll322XxDG8VV"
      }
    },
    {
      "cell_type": "markdown",
      "source": [
        "## Italic\n",
        "\n",
        "*José Rodrigo Vélez Molano*"
      ],
      "metadata": {
        "id": "6_Xrb4QPH9aR"
      }
    },
    {
      "cell_type": "markdown",
      "source": [
        "## Combined\n",
        "\n",
        "***José Rodrigo Vélez Molano***"
      ],
      "metadata": {
        "id": "y9gAeyrGIO7P"
      }
    },
    {
      "cell_type": "markdown",
      "source": [
        "## Underline\n",
        "\n",
        "WE DON'T.\n",
        "\n",
        "We use *HTML*\n",
        "\n",
        "<u>Este texto está subrayado.</u>"
      ],
      "metadata": {
        "id": "QhRkBKAaIb4A"
      }
    },
    {
      "cell_type": "markdown",
      "source": [
        "<ol>\n",
        "  <li> bla </li>\n",
        "</ol>\n",
        "\n",
        "<ul>\n",
        "  <li> bla </li>\n",
        "</ul>"
      ],
      "metadata": {
        "id": "wlSA6SV9L6hb"
      }
    },
    {
      "cell_type": "code",
      "execution_count": null,
      "metadata": {
        "id": "nUl9p-akDJpc"
      },
      "outputs": [],
      "source": []
    }
  ]
}