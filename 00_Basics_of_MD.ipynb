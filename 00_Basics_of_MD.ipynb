{
  "nbformat": 4,
  "nbformat_minor": 0,
  "metadata": {
    "colab": {
      "provenance": [],
      "toc_visible": true,
      "authorship_tag": "ABX9TyOQwka1dddaQqnHflWvJKyo",
      "include_colab_link": true
    },
    "kernelspec": {
      "name": "python3",
      "display_name": "Python 3"
    },
    "language_info": {
      "name": "python"
    }
  },
  "cells": [
    {
      "cell_type": "markdown",
      "metadata": {
        "id": "view-in-github",
        "colab_type": "text"
      },
      "source": [
        "<a href=\"https://colab.research.google.com/github/FintradeLab/CinC_24_I/blob/main/00_Basics_of_MD.ipynb\" target=\"_parent\"><img src=\"https://colab.research.google.com/assets/colab-badge.svg\" alt=\"Open In Colab\"/></a>"
      ]
    },
    {
      "cell_type": "markdown",
      "source": [
        "# Title\n",
        "\n",
        "jahsdkjas asjkdhkasjhdkas askldjhaklsd"
      ],
      "metadata": {
        "id": "DpzGUWwvE1lU"
      }
    },
    {
      "cell_type": "markdown",
      "source": [
        "## Subtitle"
      ],
      "metadata": {
        "id": "7W1XCoLxGOUn"
      }
    },
    {
      "cell_type": "markdown",
      "source": [
        "# Text Formating"
      ],
      "metadata": {
        "id": "qVJVAVemG2DB"
      }
    },
    {
      "cell_type": "markdown",
      "source": [
        "## Bold\n",
        "\n",
        "**José Rodrigo Vélez Molano**"
      ],
      "metadata": {
        "id": "Ll322XxDG8VV"
      }
    },
    {
      "cell_type": "markdown",
      "source": [
        "## Italic\n",
        "\n",
        "*José Rodrigo Vélez Molano*"
      ],
      "metadata": {
        "id": "6_Xrb4QPH9aR"
      }
    },
    {
      "cell_type": "markdown",
      "source": [
        "## Combined\n",
        "\n",
        "***José Rodrigo Vélez Molano***"
      ],
      "metadata": {
        "id": "y9gAeyrGIO7P"
      }
    },
    {
      "cell_type": "markdown",
      "source": [
        "## Underline\n",
        "\n",
        "WE DON'T.\n",
        "\n",
        "We use *HTML*\n",
        "\n",
        "<u>Este texto está subrayado.</u>"
      ],
      "metadata": {
        "id": "QhRkBKAaIb4A"
      }
    },
    {
      "cell_type": "markdown",
      "source": [
        "<ol>\n",
        "  <li> bla </li>\n",
        "</ol>\n",
        "\n",
        "<ul>\n",
        "  <li> bla </li>\n",
        "</ul>"
      ],
      "metadata": {
        "id": "wlSA6SV9L6hb"
      }
    },
    {
      "cell_type": "markdown",
      "source": [
        "## Change colors\n",
        "\n",
        "\n",
        "<font color=\"blue\"> Welcome to freeCodeCamp. </font>"
      ],
      "metadata": {
        "id": "z_yVAS8WHJxO"
      }
    },
    {
      "cell_type": "markdown",
      "source": [
        "# Insert"
      ],
      "metadata": {
        "id": "XvNHcj5rAN9p"
      }
    },
    {
      "cell_type": "markdown",
      "source": [
        "## Link\n",
        "[La Salle](https://www.lasalle.edu.co/)\n"
      ],
      "metadata": {
        "id": "020PuvGzASPf"
      }
    },
    {
      "cell_type": "markdown",
      "source": [
        "## Image\n",
        "\n",
        "![image.jfif](data:image/png;base64,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)"
      ],
      "metadata": {
        "id": "SKUzqsgvBA5K"
      }
    },
    {
      "cell_type": "markdown",
      "source": [
        "## Video"
      ],
      "metadata": {
        "id": "k9qWJH0YCmaa"
      }
    },
    {
      "cell_type": "code",
      "source": [
        "%%html\n",
        "<iframe width=\"560\" height=\"315\" src=\"https://www.youtube.com/embed/WIJVilqIb9Q?si=7XImNdXZsZTF7Hyt\" title=\"YouTube video player\" frameborder=\"0\" allow=\"accelerometer; autoplay; clipboard-write; encrypted-media; gyroscope; picture-in-picture; web-share\" allowfullscreen></iframe>"
      ],
      "metadata": {
        "colab": {
          "base_uri": "https://localhost:8080/",
          "height": 336
        },
        "id": "q-nCyviGGJeb",
        "outputId": "4f18a6cf-e041-4390-c42c-98b170acb3f9"
      },
      "execution_count": 4,
      "outputs": [
        {
          "output_type": "display_data",
          "data": {
            "text/plain": [
              "<IPython.core.display.HTML object>"
            ],
            "text/html": [
              "<iframe width=\"560\" height=\"315\" src=\"https://www.youtube.com/embed/WIJVilqIb9Q?si=7XImNdXZsZTF7Hyt\" title=\"YouTube video player\" frameborder=\"0\" allow=\"accelerometer; autoplay; clipboard-write; encrypted-media; gyroscope; picture-in-picture; web-share\" allowfullscreen></iframe>\n"
            ]
          },
          "metadata": {}
        }
      ]
    }
  ]
}